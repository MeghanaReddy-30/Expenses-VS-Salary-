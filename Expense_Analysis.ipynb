import pandas as pd
import matplotlib.pyplot as plt
from sklearn.model_selection import train_test_split
from sklearn.linear_model import LinearRegression
from sklearn.metrics import mean_squared_error, r2_score

# Load dataset
df = pd.read_csv("insurance.csv")

# Select only chosen features
df_selected = df[["age", "sex", "bmi", "children", "charges"]]

# Encode 'sex' (male=1, female=0)
df_selected["sex"] = df_selected["sex"].map({"male": 1, "female": 0})

print(df_selected.head())

# Features (X) and Target (y)
X = df_selected[["age", "sex", "bmi", "children"]]
y = df_selected["charges"]

# Train-test split
X_train, X_test, y_train, y_test = train_test_split(X, y, test_size=0.2, random_state=42)

# Train model
model = LinearRegression()
model.fit(X_train, y_train)

# Predictions
y_pred = model.predict(X_test)

# Evaluation
print("Mean Squared Error:", mean_squared_error(y_test, y_pred))
print("R^2 Score:", r2_score(y_test, y_pred))

# Plot actual vs predicted
plt.scatter(y_test, y_pred, alpha=0.6, color="blue")
plt.xlabel("Actual Charges")
plt.ylabel("Predicted Charges")
plt.title("Actual vs Predicted Insurance Charges (Simplified Features)")
plt.show()
